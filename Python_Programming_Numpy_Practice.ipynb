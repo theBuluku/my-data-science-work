{
  "nbformat": 4,
  "nbformat_minor": 0,
  "metadata": {
    "colab": {
      "name": "Python Programming - Numpy Practice",
      "version": "0.3.2",
      "provenance": [],
      "collapsed_sections": [
        "-7J_lE4-YPLq",
        "cnaEkfAtY5n1",
        "ICXG_crZZAw8"
      ],
      "toc_visible": true,
      "include_colab_link": true
    },
    "kernelspec": {
      "name": "python3",
      "display_name": "Python 3"
    },
    "accelerator": "GPU"
  },
  "cells": [
    {
      "cell_type": "markdown",
      "metadata": {
        "id": "view-in-github",
        "colab_type": "text"
      },
      "source": [
        "<a href=\"https://colab.research.google.com/github/theBuluku/my-data-science-work/blob/master/Python_Programming_Numpy_Practice.ipynb\" target=\"_parent\"><img src=\"https://colab.research.google.com/assets/colab-badge.svg\" alt=\"Open In Colab\"/></a>"
      ]
    },
    {
      "cell_type": "markdown",
      "metadata": {
        "id": "lLLVoxQQDrNO",
        "colab_type": "text"
      },
      "source": [
        "<font color=\"green\">*To start working on this notebook, or any other notebook that we will use in the Moringa Data Science Course, we will need to save our own copy of it. We can do this by clicking File > Save a Copy in Drive. We will then be able to make edits to our own copy of this notebook.*</font>"
      ]
    },
    {
      "cell_type": "markdown",
      "metadata": {
        "id": "-7J_lE4-YPLq",
        "colab_type": "text"
      },
      "source": [
        "### <font color=\"green\">1.1 Challenge: Importing our Library</font>"
      ]
    },
    {
      "cell_type": "code",
      "metadata": {
        "id": "9l8Juvt-bRgz",
        "colab_type": "code",
        "colab": {}
      },
      "source": [
        "# Let's import numpy\n",
        "#\n",
        "import numpy as np"
      ],
      "execution_count": 0,
      "outputs": []
    },
    {
      "cell_type": "markdown",
      "metadata": {
        "id": "cnaEkfAtY5n1",
        "colab_type": "text"
      },
      "source": [
        "### <font color=\"green\">1.2 Challenge: Creating an Array</font>"
      ]
    },
    {
      "cell_type": "code",
      "metadata": {
        "id": "43Q-yy08bG0B",
        "colab_type": "code",
        "colab": {
          "base_uri": "https://localhost:8080/",
          "height": 35
        },
        "outputId": "75a18bfc-046e-4be9-ecd5-35f2e19df85f"
      },
      "source": [
        "# Challenge 1 \n",
        "# Create an array of five zeros\n",
        "#\n",
        "zero_value_array=np.zeros(5)\n",
        "print(zero_value_array)"
      ],
      "execution_count": 3,
      "outputs": [
        {
          "output_type": "stream",
          "text": [
            "[0. 0. 0. 0. 0.]\n"
          ],
          "name": "stdout"
        }
      ]
    },
    {
      "cell_type": "code",
      "metadata": {
        "id": "Y-ZMS064b8Ck",
        "colab_type": "code",
        "colab": {
          "base_uri": "https://localhost:8080/",
          "height": 35
        },
        "outputId": "10c58fe9-5ef3-4e23-fce1-42803a048c1e"
      },
      "source": [
        "# Challenge 2\n",
        "# Create an array of six ones \n",
        "#\n",
        "ones_array=np.ones(6)\n",
        "print(ones_array)"
      ],
      "execution_count": 4,
      "outputs": [
        {
          "output_type": "stream",
          "text": [
            "[1. 1. 1. 1. 1. 1.]\n"
          ],
          "name": "stdout"
        }
      ]
    },
    {
      "cell_type": "code",
      "metadata": {
        "id": "FOaIYiBGb74H",
        "colab_type": "code",
        "colab": {
          "base_uri": "https://localhost:8080/",
          "height": 108
        },
        "outputId": "060cdfc1-3497-4a3b-de9c-79ec56d76c12"
      },
      "source": [
        "# Challenge 3\n",
        "# Create an array of the integers from 10 to 50\n",
        "#\n",
        "integers=np.arange(10,50).reshape(5,8)\n",
        "print(integers)"
      ],
      "execution_count": 11,
      "outputs": [
        {
          "output_type": "stream",
          "text": [
            "[[10 11 12 13 14 15 16 17]\n",
            " [18 19 20 21 22 23 24 25]\n",
            " [26 27 28 29 30 31 32 33]\n",
            " [34 35 36 37 38 39 40 41]\n",
            " [42 43 44 45 46 47 48 49]]\n"
          ],
          "name": "stdout"
        }
      ]
    },
    {
      "cell_type": "code",
      "metadata": {
        "id": "FmmY6xLSb7t8",
        "colab_type": "code",
        "colab": {
          "base_uri": "https://localhost:8080/",
          "height": 35
        },
        "outputId": "d519ce53-cde2-46fe-c56b-25798ad5ff9a"
      },
      "source": [
        "# Challenge 4\n",
        "# Create an array of odd integers from 20 to 60\n",
        "#\n",
        "odd=np.arange(20,61)\n",
        "a=odd[odd%2==1]\n",
        "print(a)\n"
      ],
      "execution_count": 17,
      "outputs": [
        {
          "output_type": "stream",
          "text": [
            "[21 23 25 27 29 31 33 35 37 39 41 43 45 47 49 51 53 55 57 59]\n"
          ],
          "name": "stdout"
        }
      ]
    },
    {
      "cell_type": "code",
      "metadata": {
        "id": "ht0VpxEXb7kG",
        "colab_type": "code",
        "colab": {
          "base_uri": "https://localhost:8080/",
          "height": 108
        },
        "outputId": "39c1b6ca-615b-43db-ea40-035566fc66de"
      },
      "source": [
        "# Challenge 5\n",
        "# Create an array of 25 random numbers \n",
        "#\n",
        "random_numbers=np.random.rand(25)\n",
        "print(random_numbers)"
      ],
      "execution_count": 6,
      "outputs": [
        {
          "output_type": "stream",
          "text": [
            "[0.17332036 0.78962983 0.38205039 0.56909305 0.68674088 0.21491176\n",
            " 0.40961361 0.4007574  0.30884585 0.44741601 0.07901571 0.2679089\n",
            " 0.47400468 0.0733141  0.1147281  0.96993482 0.72887069 0.91007969\n",
            " 0.80239378 0.93715832 0.68972657 0.5045836  0.45833614 0.90666877\n",
            " 0.43685724]\n"
          ],
          "name": "stdout"
        }
      ]
    },
    {
      "cell_type": "markdown",
      "metadata": {
        "id": "ICXG_crZZAw8",
        "colab_type": "text"
      },
      "source": [
        "### <font color=\"green\">1.3 Working with Matrices</font>"
      ]
    },
    {
      "cell_type": "code",
      "metadata": {
        "id": "CnM3qTE1b7YF",
        "colab_type": "code",
        "colab": {
          "base_uri": "https://localhost:8080/",
          "height": 108
        },
        "outputId": "ffde6b9d-78f9-4b42-8914-9aa3547f8a50"
      },
      "source": [
        "# Challenge 6\n",
        "# Write code to replicate the expected matrix output \n",
        "# of the cell shown below\n",
        "# \n",
        "matrix=np.arange(1,21).reshape(5,4)\n",
        "print(matrix)"
      ],
      "execution_count": 41,
      "outputs": [
        {
          "output_type": "stream",
          "text": [
            "[[ 1  2  3  4]\n",
            " [ 5  6  7  8]\n",
            " [ 9 10 11 12]\n",
            " [13 14 15 16]\n",
            " [17 18 19 20]]\n"
          ],
          "name": "stdout"
        }
      ]
    },
    {
      "cell_type": "code",
      "metadata": {
        "id": "j8k4iwwwS1I-",
        "colab_type": "code",
        "colab": {
          "base_uri": "https://localhost:8080/",
          "height": 72
        },
        "outputId": "1494ea37-1508-4789-eb1e-19075feb24f3"
      },
      "source": [
        "matrix[2:,1:]"
      ],
      "execution_count": 42,
      "outputs": [
        {
          "output_type": "execute_result",
          "data": {
            "text/plain": [
              "array([[10, 11, 12],\n",
              "       [14, 15, 16],\n",
              "       [18, 19, 20]])"
            ]
          },
          "metadata": {
            "tags": []
          },
          "execution_count": 42
        }
      ]
    },
    {
      "cell_type": "code",
      "metadata": {
        "id": "K5-uPXdEfgjU",
        "colab_type": "code",
        "colab": {}
      },
      "source": [
        "# Challenge 6: Expected Output\n",
        "# [Do not run this cell]\n",
        "# The output of this cell will disappear when run"
      ],
      "execution_count": 0,
      "outputs": []
    },
    {
      "cell_type": "code",
      "metadata": {
        "id": "EH63OkyEb7NU",
        "colab_type": "code",
        "colab": {
          "base_uri": "https://localhost:8080/",
          "height": 54
        },
        "outputId": "b141ad3c-e6ef-439d-eed2-16bddeb0cb1a"
      },
      "source": [
        "# Challenge 7\n",
        "# Let's write code to replicate the expected matrix output \n",
        "# of the cell shown below\n",
        "# \n",
        "matrix[3:,1:]"
      ],
      "execution_count": 21,
      "outputs": [
        {
          "output_type": "execute_result",
          "data": {
            "text/plain": [
              "array([[14, 15, 16],\n",
              "       [18, 19, 20]])"
            ]
          },
          "metadata": {
            "tags": []
          },
          "execution_count": 21
        }
      ]
    },
    {
      "cell_type": "code",
      "metadata": {
        "id": "avA-papFb7Fl",
        "colab_type": "code",
        "outputId": "aa252745-ee8f-48db-a0ea-f4dad2484177",
        "colab": {
          "base_uri": "https://localhost:8080/",
          "height": 51
        }
      },
      "source": [
        "# Challenge 7: Expected Output\n",
        "# [Do not run this cell]\n",
        "# Running this cell will cause the output below to disappear"
      ],
      "execution_count": 0,
      "outputs": [
        {
          "output_type": "stream",
          "text": [
            "[[14 15 16]\n",
            " [18 19 20]]\n"
          ],
          "name": "stdout"
        }
      ]
    },
    {
      "cell_type": "code",
      "metadata": {
        "id": "nLV_X3kQb68p",
        "colab_type": "code",
        "colab": {
          "base_uri": "https://localhost:8080/",
          "height": 35
        },
        "outputId": "859a4b0b-a0f3-472e-ffa8-1c64f1e73449"
      },
      "source": [
        "# Challenge 8\n",
        "# Let's write code to replicate the expected matrix output \n",
        "# of the cell shown below\n",
        "# \n",
        "matrix[4,3]"
      ],
      "execution_count": 29,
      "outputs": [
        {
          "output_type": "execute_result",
          "data": {
            "text/plain": [
              "20"
            ]
          },
          "metadata": {
            "tags": []
          },
          "execution_count": 29
        }
      ]
    },
    {
      "cell_type": "code",
      "metadata": {
        "id": "DxEU0hOEb6y2",
        "colab_type": "code",
        "outputId": "e206bcc9-90fe-4ff0-f412-60487537707f",
        "colab": {
          "base_uri": "https://localhost:8080/",
          "height": 34
        }
      },
      "source": [
        "# Challenge 8: Expected Output\n",
        "# [Do not run this cell]\n",
        "# Running this cell will cause the output below to disappear"
      ],
      "execution_count": 0,
      "outputs": [
        {
          "output_type": "execute_result",
          "data": {
            "text/plain": [
              "20"
            ]
          },
          "metadata": {
            "tags": []
          },
          "execution_count": 13
        }
      ]
    },
    {
      "cell_type": "code",
      "metadata": {
        "id": "Dau4PAJfb6oO",
        "colab_type": "code",
        "colab": {
          "base_uri": "https://localhost:8080/",
          "height": 54
        },
        "outputId": "85c7c0b4-b1f4-42b0-ecff-0b5d32d089f4"
      },
      "source": [
        "# Challenge 9\n",
        "# Let's write code to replicate the expected matrix output \n",
        "# of the cell shown below\n",
        "#\n",
        "matrix[3:,0:]"
      ],
      "execution_count": 46,
      "outputs": [
        {
          "output_type": "execute_result",
          "data": {
            "text/plain": [
              "array([[13, 14, 15, 16],\n",
              "       [17, 18, 19, 20]])"
            ]
          },
          "metadata": {
            "tags": []
          },
          "execution_count": 46
        }
      ]
    },
    {
      "cell_type": "code",
      "metadata": {
        "id": "Pgj7NWePb6fa",
        "colab_type": "code",
        "outputId": "c4bc7e8c-bf79-4838-9df5-cf0ee199eec6",
        "colab": {
          "base_uri": "https://localhost:8080/",
          "height": 51
        }
      },
      "source": [
        "# Challenge 9: Expected Output\n",
        "# [Do not run this cell]\n",
        "# Running this cell will cause the output below to disappear"
      ],
      "execution_count": 0,
      "outputs": [
        {
          "output_type": "stream",
          "text": [
            "[[13 14 15 16]\n",
            " [17 18 19 20]]\n"
          ],
          "name": "stdout"
        }
      ]
    },
    {
      "cell_type": "code",
      "metadata": {
        "id": "jLp-pwUyb6R_",
        "colab_type": "code",
        "colab": {
          "base_uri": "https://localhost:8080/",
          "height": 35
        },
        "outputId": "cc4e8f7c-4f48-47c0-9b9e-dbe3751f011c"
      },
      "source": [
        "# Challenge 10\n",
        "# Let's find out the mean of first column values \n",
        "# in our matrix in challenge 6 above\n",
        "# \n",
        "d=matrix[:,0]\n",
        "d.mean()"
      ],
      "execution_count": 36,
      "outputs": [
        {
          "output_type": "execute_result",
          "data": {
            "text/plain": [
              "9.0"
            ]
          },
          "metadata": {
            "tags": []
          },
          "execution_count": 36
        }
      ]
    },
    {
      "cell_type": "code",
      "metadata": {
        "id": "i5cFO78Jb6Ee",
        "colab_type": "code",
        "colab": {
          "base_uri": "https://localhost:8080/",
          "height": 35
        },
        "outputId": "7f6b9b75-16cc-4b96-fec5-633847a1657d"
      },
      "source": [
        "# Challenge 11\n",
        "# Let's find out the sum of second column values \n",
        "# in our matrix in challenge 6 above\n",
        "#\n",
        "e=matrix[:,1]\n",
        "print(e)"
      ],
      "execution_count": 40,
      "outputs": [
        {
          "output_type": "stream",
          "text": [
            "[ 2  6 10 14 18]\n"
          ],
          "name": "stdout"
        }
      ]
    },
    {
      "cell_type": "code",
      "metadata": {
        "id": "kjS2h2jSj7_v",
        "colab_type": "code",
        "colab": {
          "base_uri": "https://localhost:8080/",
          "height": 35
        },
        "outputId": "7f04e214-2ab8-465d-ed3f-ad0554a9114c"
      },
      "source": [
        "# Challenge 12\n",
        "# How do we find out the sum of all columns of the challenge 6 output\n",
        "# The resulting array should contain the sums of each column\n",
        "# \n",
        "a=matrix.sum(axis=0)\n",
        "print(a)"
      ],
      "execution_count": 39,
      "outputs": [
        {
          "output_type": "stream",
          "text": [
            "[45 50 55 60]\n"
          ],
          "name": "stdout"
        }
      ]
    }
  ]
}