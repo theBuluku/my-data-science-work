{
  "nbformat": 4,
  "nbformat_minor": 0,
  "metadata": {
    "colab": {
      "name": "Copy of Python Programming: Lists",
      "version": "0.3.2",
      "provenance": [],
      "collapsed_sections": [
        "YfJpi7DB5b1G",
        "m6MMTVzP76zo",
        "HKfD8HjY5cmv",
        "qAB7efGz8GL9",
        "p4UR_FuR5qLx",
        "H3Z5_lcs8XNH",
        "cCvsMHqK5fUn",
        "1qG1ecRh8mC9",
        "Fs8XTeN45iFS",
        "SJmtZJu48z-Q",
        "QIPUN0KJ5mdp",
        "5WwBTWk58-Nj"
      ],
      "toc_visible": true,
      "include_colab_link": true
    },
    "kernelspec": {
      "name": "python3",
      "display_name": "Python 3"
    },
    "accelerator": "GPU"
  },
  "cells": [
    {
      "cell_type": "markdown",
      "metadata": {
        "id": "view-in-github",
        "colab_type": "text"
      },
      "source": [
        "<a href=\"https://colab.research.google.com/github/theBuluku/my-data-science-work/blob/master/Copy_of_Python_Programming_Lists.ipynb\" target=\"_parent\"><img src=\"https://colab.research.google.com/assets/colab-badge.svg\" alt=\"Open In Colab\"/></a>"
      ]
    },
    {
      "cell_type": "markdown",
      "metadata": {
        "id": "wbJA7xUzEy9k",
        "colab_type": "text"
      },
      "source": [
        "<font color=\"green\">*To start working on this notebook, or any other notebook that we will use in the Moringa Data Science Course, we will need to save our own copy of it. We can do this by clicking File > Save a Copy in Drive. We will then be able to make edits to our own copy of this notebook.*</font>"
      ]
    },
    {
      "cell_type": "markdown",
      "metadata": {
        "id": "gaWkCnZQ5Sbx",
        "colab_type": "text"
      },
      "source": [
        "# Python Programming: Lists"
      ]
    },
    {
      "cell_type": "markdown",
      "metadata": {
        "id": "YfJpi7DB5b1G",
        "colab_type": "text"
      },
      "source": [
        "## 1.0 Creating a List"
      ]
    },
    {
      "cell_type": "code",
      "metadata": {
        "id": "S1JygPfZ6_LB",
        "colab_type": "code",
        "outputId": "fdffc764-ba66-4f03-e3a9-70d56fc29c31",
        "colab": {
          "base_uri": "https://localhost:8080/",
          "height": 35
        }
      },
      "source": [
        "# Example 1\n",
        "# Lists can be created by placing a sequence inside square brackets.\n",
        "# They are ordered and changeable and can also contain duplicate items.\n",
        "# We will start to create a list called fruits\n",
        "#\n",
        "fruits = [\"bananas\", \"grapes\", \"mangoes\"]\n",
        "print(fruits)"
      ],
      "execution_count": 0,
      "outputs": [
        {
          "output_type": "stream",
          "text": [
            "['bananas', 'grapes', 'mangoes']\n"
          ],
          "name": "stdout"
        }
      ]
    },
    {
      "cell_type": "code",
      "metadata": {
        "id": "VTtUQP6zzVDw",
        "colab_type": "code",
        "outputId": "35de9373-e6df-422c-ecd3-1e8cf12727cb",
        "colab": {
          "base_uri": "https://localhost:8080/",
          "height": 35
        }
      },
      "source": [
        "# Example 2\n",
        "# We will also create a list called kenyan_football_players\n",
        "#\n",
        "kenyan_football_players = [\"Victor Wanyama\", \"Michael Olunga\", \"McDonald Mariga\"]\n",
        "print(kenyan_football_players)"
      ],
      "execution_count": 0,
      "outputs": [
        {
          "output_type": "stream",
          "text": [
            "['Victor Wanyama', 'Michael Olunga', 'McDonald Mariga']\n"
          ],
          "name": "stdout"
        }
      ]
    },
    {
      "cell_type": "code",
      "metadata": {
        "id": "dW9hKVZRzdJv",
        "colab_type": "code",
        "outputId": "a507e2ba-2c8e-4a91-f74c-789ff3fb276f",
        "colab": {
          "base_uri": "https://localhost:8080/",
          "height": 35
        }
      },
      "source": [
        "# Example 3\n",
        "# And lastly, create a list called kenyan cities\n",
        "#\n",
        "kenyan_cities = [\"Nairobi\", \"Mombasa\", \"Kisumu\"]\n",
        "print(kenyan_cities)"
      ],
      "execution_count": 0,
      "outputs": [
        {
          "output_type": "stream",
          "text": [
            "['Nairobi', 'Mombasa', 'Kisumu']\n"
          ],
          "name": "stdout"
        }
      ]
    },
    {
      "cell_type": "markdown",
      "metadata": {
        "id": "m6MMTVzP76zo",
        "colab_type": "text"
      },
      "source": [
        "### <font color=\"green\">1.1 Challenges</font>"
      ]
    },
    {
      "cell_type": "code",
      "metadata": {
        "id": "0dhSpupB72TX",
        "colab_type": "code",
        "colab": {}
      },
      "source": [
        "# Challenge 1: \n",
        "# Let's create a list of 3 counties in Kenya and then print out the list below;\n",
        "# \n",
        "Counties=['Nakuru','Kakamega','Mombasa']"
      ],
      "execution_count": 0,
      "outputs": []
    },
    {
      "cell_type": "code",
      "metadata": {
        "id": "yclsB_-Z74U6",
        "colab_type": "code",
        "colab": {}
      },
      "source": [
        "# Challenge 2: \n",
        "# Create a list of 5 African presidents and print out the list below;\n",
        "# \n",
        "African presidents=['Cyril Ramaphosa','John Magufuli', 'Uhuru Kenyatta','Yoweri Museveni','Omar Al-Bashir']"
      ],
      "execution_count": 0,
      "outputs": []
    },
    {
      "cell_type": "code",
      "metadata": {
        "id": "pjqd1Qqf8BRT",
        "colab_type": "code",
        "colab": {}
      },
      "source": [
        "# Challenge 3: \n",
        "# Create a list of 5 members of your moringa class and print out the list;\n",
        "#\n",
        "members=['Kinya','Brian','Daisy', 'Ibrahim','Chesa']"
      ],
      "execution_count": 0,
      "outputs": []
    },
    {
      "cell_type": "markdown",
      "metadata": {
        "id": "HKfD8HjY5cmv",
        "colab_type": "text"
      },
      "source": [
        "## 1.2 Adding Elements to a List"
      ]
    },
    {
      "cell_type": "code",
      "metadata": {
        "id": "TmyVQVnD7cO3",
        "colab_type": "code",
        "outputId": "66e61d75-2eab-4a77-fdc1-4f03f8542370",
        "colab": {
          "base_uri": "https://localhost:8080/",
          "height": 35
        }
      },
      "source": [
        "# Example 1\n",
        "# We use the append() item to add an element to a list as shown below:\n",
        "# Adding the city Nakuru to the kenyan_cities list \n",
        "#\n",
        "kenyan_cities.append(\"Nakuru\")\n",
        "print(kenyan_cities)"
      ],
      "execution_count": 0,
      "outputs": [
        {
          "output_type": "stream",
          "text": [
            "['Nairobi', 'Mombasa', 'Kisumu', 'Nakuru']\n"
          ],
          "name": "stdout"
        }
      ]
    },
    {
      "cell_type": "code",
      "metadata": {
        "id": "Ut93O1NQ0UNa",
        "colab_type": "code",
        "outputId": "f19c8e83-0905-47d4-b61a-1c6e96ec3688",
        "colab": {
          "base_uri": "https://localhost:8080/",
          "height": 35
        }
      },
      "source": [
        "# Example 2\n",
        "# We add the county Turkana to our counties list \n",
        "# and print out the list as shown below;\n",
        "#\n",
        "Counties.append(\"Turkana\")\n",
        "print(Counties)"
      ],
      "execution_count": 0,
      "outputs": [
        {
          "output_type": "stream",
          "text": [
            "['Nakuru', 'Kakamega', 'Mombasa', 'Turkana', 'Turkana']\n"
          ],
          "name": "stdout"
        }
      ]
    },
    {
      "cell_type": "code",
      "metadata": {
        "id": "b9OWSkyh0T-N",
        "colab_type": "code",
        "outputId": "2ee58833-c0a3-4d89-c66d-9c422cd4cc2b",
        "colab": {
          "base_uri": "https://localhost:8080/",
          "height": 35
        }
      },
      "source": [
        "# Example 3\n",
        "# Let's add the footballer Francis Kahata to the \n",
        "# kenyan_football_players list defined above and print out the list\n",
        "#\n",
        "kenyan_football_players.append( \"Francis Kahata\")\n",
        "print(kenyan_football_players)\n"
      ],
      "execution_count": 0,
      "outputs": [
        {
          "output_type": "stream",
          "text": [
            "['Victor Wanyama', 'Michael Olunga', 'McDonald Mariga', 'Francis Kahata']\n"
          ],
          "name": "stdout"
        }
      ]
    },
    {
      "cell_type": "markdown",
      "metadata": {
        "id": "qAB7efGz8GL9",
        "colab_type": "text"
      },
      "source": [
        "### <font color=\"green\">1.2 Challenges</font>"
      ]
    },
    {
      "cell_type": "code",
      "metadata": {
        "id": "wG25-7Hp8FaS",
        "colab_type": "code",
        "outputId": "3b65921a-7693-47e7-f712-50b9d5559c65",
        "colab": {
          "base_uri": "https://localhost:8080/",
          "height": 35
        }
      },
      "source": [
        "# Challenge 1: Add a third county to the county list \n",
        "# that you defined above and then print out the list.\n",
        "# \n",
        "Counties.append(\"Kiambu\")\n",
        "print(Counties)\n"
      ],
      "execution_count": 0,
      "outputs": [
        {
          "output_type": "stream",
          "text": [
            "['Nakuru', 'Kakamega', 'Mombasa', 'Turkana', 'Turkana', 'Kiambu']\n"
          ],
          "name": "stdout"
        }
      ]
    },
    {
      "cell_type": "code",
      "metadata": {
        "id": "viPcTuNQ8Kmf",
        "colab_type": "code",
        "outputId": "22be66e2-2c4d-4e3f-e5d5-95901a598046",
        "colab": {
          "base_uri": "https://localhost:8080/",
          "height": 55
        }
      },
      "source": [
        "# Challenge 2: \n",
        "# Add a fifth and a sixth president to the african presidents \n",
        "# you defined above and print out the list.\n",
        "#\n",
        "African_presidents.append('Faure Gnassingbe')\n",
        "African_presidents.append('Beji Caid Essebsi')                         \n",
        "print(African_presidents)"
      ],
      "execution_count": 0,
      "outputs": [
        {
          "output_type": "stream",
          "text": [
            "['Cyril Ramaphosa', 'John Magufuli', 'Uhuru Kenyatta', 'Yoweri Museveni', 'Omar Al-Bashir', 'Faure Gnassingbe', 'Beji Caid Essebsi']\n"
          ],
          "name": "stdout"
        }
      ]
    },
    {
      "cell_type": "code",
      "metadata": {
        "id": "-xXlnKSX8MeE",
        "colab_type": "code",
        "outputId": "ddfcaff5-4ba1-495a-aecc-1962471f83ae",
        "colab": {
          "base_uri": "https://localhost:8080/",
          "height": 35
        }
      },
      "source": [
        "# Challenge 3: \n",
        "# Add two more members to the moringa class list that \n",
        "# you defined above and print out the list.\n",
        "#\n",
        "members.append('Nana')\n",
        "members.append('Kuria')\n",
        "print(members)"
      ],
      "execution_count": 0,
      "outputs": [
        {
          "output_type": "stream",
          "text": [
            "['Kinya', 'Brian', 'Daisy', 'Ibrahim', 'Chesa', 'Nana', 'Kuria']\n"
          ],
          "name": "stdout"
        }
      ]
    },
    {
      "cell_type": "markdown",
      "metadata": {
        "id": "p4UR_FuR5qLx",
        "colab_type": "text"
      },
      "source": [
        "## 1.3 Updating Elements in a List"
      ]
    },
    {
      "cell_type": "code",
      "metadata": {
        "id": "sOjwAQdu7q9Y",
        "colab_type": "code",
        "outputId": "eb3e5d96-650d-4803-b235-fd3d5a4ec094",
        "colab": {
          "base_uri": "https://localhost:8080/",
          "height": 35
        }
      },
      "source": [
        "# Example 1\n",
        "# The value of a specific item in a list can be changed by referring to the index number as shown;\n",
        "# Let's update the first element in the kenyan_cities list then print it out\n",
        "# \n",
        "kenyan_cities[1] = \"Kwale\"\n",
        "print(kenyan_cities)"
      ],
      "execution_count": 0,
      "outputs": [
        {
          "output_type": "stream",
          "text": [
            "['Kwale', 'Kwale', 'Kisumu', 'Nakuru']\n"
          ],
          "name": "stdout"
        }
      ]
    },
    {
      "cell_type": "code",
      "metadata": {
        "id": "TA8RhFajBl-P",
        "colab_type": "code",
        "outputId": "5b77de01-5cb7-4767-de4e-7b6e9536ec3f",
        "colab": {
          "base_uri": "https://localhost:8080/",
          "height": 35
        }
      },
      "source": [
        "# Example 2\n",
        "# Let's update the second element in the kenyan_football_players \n",
        "# list with Musa Mohammed then print out the list\n",
        "#\n",
        "kenyan_football_players[1]=\"Musa Mohammed\"\n",
        "print(kenyan_football_players)"
      ],
      "execution_count": 0,
      "outputs": [
        {
          "output_type": "stream",
          "text": [
            "['Victor Wanyama', 'Musa Mohammed', 'Musa Mohammed', 'Francis Kahata']\n"
          ],
          "name": "stdout"
        }
      ]
    },
    {
      "cell_type": "code",
      "metadata": {
        "id": "7OfX19kCBl1b",
        "colab_type": "code",
        "outputId": "a3edd859-3ffe-44f4-e6ab-b4dc69f87be7",
        "colab": {
          "base_uri": "https://localhost:8080/",
          "height": 35
        }
      },
      "source": [
        "# Example 3\n",
        "# Let's update the third element in the moringa \n",
        "# class list with your name then print out the list\n",
        "# \n",
        "members[2]=\"Malcolm\"\n",
        "print(members)"
      ],
      "execution_count": 0,
      "outputs": [
        {
          "output_type": "stream",
          "text": [
            "['Kinya', 'Brian', 'Malcolm', 'Ibrahim', 'Chesa', 'Nana', 'Kuria']\n"
          ],
          "name": "stdout"
        }
      ]
    },
    {
      "cell_type": "markdown",
      "metadata": {
        "id": "H3Z5_lcs8XNH",
        "colab_type": "text"
      },
      "source": [
        "### <font color=\"green\">1.3 Challenges</font>"
      ]
    },
    {
      "cell_type": "code",
      "metadata": {
        "id": "dVQ1NNCm8QSb",
        "colab_type": "code",
        "outputId": "51911ba3-453e-4147-db7b-3c636a432559",
        "colab": {
          "base_uri": "https://localhost:8080/",
          "height": 35
        }
      },
      "source": [
        "# Challenge 1\n",
        "# Update the second county to the county list that \n",
        "# you defined above and then print out the list.\n",
        "# (NB: Update of choice)\n",
        "#\n",
        "Counties[1]=\"Kirinyaga\"\n",
        "print(Counties)"
      ],
      "execution_count": 0,
      "outputs": [
        {
          "output_type": "stream",
          "text": [
            "['Nakuru', 'Kirinyaga', 'Mombasa', 'Turkana', 'Turkana', 'Kiambu']\n"
          ],
          "name": "stdout"
        }
      ]
    },
    {
      "cell_type": "code",
      "metadata": {
        "id": "FhFJuVjq8Ros",
        "colab_type": "code",
        "outputId": "d1566056-f50e-4458-9a04-c48ac46c8a83",
        "colab": {
          "base_uri": "https://localhost:8080/",
          "height": 55
        }
      },
      "source": [
        "# Challenge 2\n",
        "# Update the third and fourth president of the african presidents \n",
        "# list that you defined above and then print out the list.\n",
        "# (NB: Update of choice) \n",
        "#\n",
        "African_presidents[2]=\"Pierre Nkurunziza\"\n",
        "African_presidents[3]=\"Paul Biya\"\n",
        "print(African_presidents)"
      ],
      "execution_count": 0,
      "outputs": [
        {
          "output_type": "stream",
          "text": [
            "['Cyril Ramaphosa', 'John Magufuli', 'Pierre Nkurunziza', 'Paul Biya', 'Omar Al-Bashir', 'Faure Gnassingbe', 'Beji Caid Essebsi']\n"
          ],
          "name": "stdout"
        }
      ]
    },
    {
      "cell_type": "code",
      "metadata": {
        "id": "lsUfPEmI8TYI",
        "colab_type": "code",
        "outputId": "a7ada9d1-bbc5-4370-933b-6f7ebc5782a9",
        "colab": {
          "base_uri": "https://localhost:8080/",
          "height": 35
        }
      },
      "source": [
        "# Challenge 3\n",
        "# Update all items in your class list \n",
        "# that you defined above with a new list and then print out that list. \n",
        "# \n",
        "\n",
        "members=['Baraka','Muchiri','Joy','Evelyne','Moruri','Cecilia','Lewis']\n",
        "print(members)"
      ],
      "execution_count": 0,
      "outputs": [
        {
          "output_type": "stream",
          "text": [
            "['Baraka', 'Muchiri', 'Joy', 'Evelyne', 'Moruri', 'Cecilia', 'Lewis']\n"
          ],
          "name": "stdout"
        }
      ]
    },
    {
      "cell_type": "markdown",
      "metadata": {
        "id": "cCvsMHqK5fUn",
        "colab_type": "text"
      },
      "source": [
        "## 1.4 Accessing Elements from a List"
      ]
    },
    {
      "cell_type": "code",
      "metadata": {
        "id": "pGn2Ei-L8lh4",
        "colab_type": "code",
        "outputId": "2264fa79-26d3-4ca3-c80d-2d5fce24dc32",
        "colab": {
          "base_uri": "https://localhost:8080/",
          "height": 35
        }
      },
      "source": [
        "# Example 1\n",
        "# We can access the first item in the fruits list by doing the following\n",
        "# \n",
        "fruits_first_item = fruits[0]\n",
        "print(fruits_first_item)"
      ],
      "execution_count": 0,
      "outputs": [
        {
          "output_type": "stream",
          "text": [
            "bananas\n"
          ],
          "name": "stdout"
        }
      ]
    },
    {
      "cell_type": "code",
      "metadata": {
        "id": "iTvwuuY219PO",
        "colab_type": "code",
        "outputId": "d04df25b-cbdb-4e95-bf9d-efc9ec6524a0",
        "colab": {
          "base_uri": "https://localhost:8080/",
          "height": 35
        }
      },
      "source": [
        "# Example 2\n",
        "# We can also access the 2nd item in the kenyan_football_players list by;\n",
        "#\n",
        "kenyan_football_players_second_item = kenyan_football_players[0]\n",
        "print(kenyan_football_players_second_item)"
      ],
      "execution_count": 0,
      "outputs": [
        {
          "output_type": "stream",
          "text": [
            "Victor Wanyama\n"
          ],
          "name": "stdout"
        }
      ]
    },
    {
      "cell_type": "code",
      "metadata": {
        "id": "lVAhEI_G2IAN",
        "colab_type": "code",
        "outputId": "99a513de-0849-4d26-a06b-f0851efff020",
        "colab": {
          "base_uri": "https://localhost:8080/",
          "height": 35
        }
      },
      "source": [
        "# Example 3\n",
        "# We can access the third item in the moringa_class list also by\n",
        "#\n",
        "kenya_football_players_second_item = kenyan_football_players[0]\n",
        "print(kenya_football_players_second_item)"
      ],
      "execution_count": 0,
      "outputs": [
        {
          "output_type": "stream",
          "text": [
            "Victor Wanyama\n"
          ],
          "name": "stdout"
        }
      ]
    },
    {
      "cell_type": "markdown",
      "metadata": {
        "id": "1qG1ecRh8mC9",
        "colab_type": "text"
      },
      "source": [
        "### <font color=\"green\">1.4 Challenges</font>"
      ]
    },
    {
      "cell_type": "code",
      "metadata": {
        "id": "JVE1OqDH8pEK",
        "colab_type": "code",
        "outputId": "cf627954-7345-44ab-fb24-84fe3100488a",
        "colab": {
          "base_uri": "https://localhost:8080/",
          "height": 35
        }
      },
      "source": [
        "# Challenge 1\n",
        "# Let's access the second item in the fruits list below\n",
        "#\n",
        "fruits_second_item=fruits[1]\n",
        "print(fruits_second_item)"
      ],
      "execution_count": 0,
      "outputs": [
        {
          "output_type": "stream",
          "text": [
            "grapes\n"
          ],
          "name": "stdout"
        }
      ]
    },
    {
      "cell_type": "code",
      "metadata": {
        "id": "Caul6cU18o9c",
        "colab_type": "code",
        "outputId": "ff1cacee-8a81-4ae4-dc9a-094bd8c7721f",
        "colab": {
          "base_uri": "https://localhost:8080/",
          "height": 35
        }
      },
      "source": [
        "# Challenge 2\n",
        "# Let's access the fourth item in kenyan_football_players list below\n",
        "#\n",
        "kenyan_football_players_fourth_item=kenyan_football_players[3]\n",
        "print(kenyan_football_players_fourth_item)"
      ],
      "execution_count": 0,
      "outputs": [
        {
          "output_type": "stream",
          "text": [
            "Francis Kahata\n"
          ],
          "name": "stdout"
        }
      ]
    },
    {
      "cell_type": "code",
      "metadata": {
        "id": "xjX0moYs8ooP",
        "colab_type": "code",
        "outputId": "f37d55ae-7fef-45e9-a46a-11c5b3908ff3",
        "colab": {
          "base_uri": "https://localhost:8080/",
          "height": 35
        }
      },
      "source": [
        "# Challenge 3\n",
        "# Let's access the first item in your class list below;\n",
        "#\n",
        "members_first_item=members[0]\n",
        "print(members_first_item)"
      ],
      "execution_count": 0,
      "outputs": [
        {
          "output_type": "stream",
          "text": [
            "Baraka\n"
          ],
          "name": "stdout"
        }
      ]
    },
    {
      "cell_type": "markdown",
      "metadata": {
        "id": "Fs8XTeN45iFS",
        "colab_type": "text"
      },
      "source": [
        "## 1.5 Removing Elements from a List"
      ]
    },
    {
      "cell_type": "code",
      "metadata": {
        "id": "mkNRpT2k8zbi",
        "colab_type": "code",
        "outputId": "4e067c39-e68d-4657-c676-e04f051435f7",
        "colab": {
          "base_uri": "https://localhost:8080/",
          "height": 35
        }
      },
      "source": [
        "# Example 1\n",
        "# Let's remove the first item from the fruits list as shown;\n",
        "#\n",
        "fruits.remove(\"bananas\")\n",
        "print(fruits)\n"
      ],
      "execution_count": 0,
      "outputs": [
        {
          "output_type": "stream",
          "text": [
            "['grapes', 'mangoes']\n"
          ],
          "name": "stdout"
        }
      ]
    },
    {
      "cell_type": "code",
      "metadata": {
        "id": "9EF5YrosFV5n",
        "colab_type": "code",
        "outputId": "42f56f3b-fd14-4d3a-ab05-373bc6adf96c",
        "colab": {
          "base_uri": "https://localhost:8080/",
          "height": 35
        }
      },
      "source": [
        "# Example 2\n",
        "# Then remove the third item from the kenyan cities list as shown;\n",
        "#\n",
        "del kenyan_cities[2];\n",
        "print(kenyan_cities)"
      ],
      "execution_count": 0,
      "outputs": [
        {
          "output_type": "stream",
          "text": [
            "['Kwale', 'Kwale', 'Nakuru']\n"
          ],
          "name": "stdout"
        }
      ]
    },
    {
      "cell_type": "code",
      "metadata": {
        "id": "-zwxINb9FVvE",
        "colab_type": "code",
        "outputId": "7ed8529f-1ab6-43ba-d787-169afcb01fc5",
        "colab": {
          "base_uri": "https://localhost:8080/",
          "height": 35
        }
      },
      "source": [
        "# Example 3\n",
        "# Let's remove the fourth item from counties list as shown;\n",
        "#\n",
        "del Counties[3]\n",
        "print(Counties)"
      ],
      "execution_count": 0,
      "outputs": [
        {
          "output_type": "stream",
          "text": [
            "['Nakuru', 'Kirinyaga', 'Mombasa', 'Turkana', 'Kiambu']\n"
          ],
          "name": "stdout"
        }
      ]
    },
    {
      "cell_type": "markdown",
      "metadata": {
        "id": "SJmtZJu48z-Q",
        "colab_type": "text"
      },
      "source": [
        "### <font color=\"green\">1.5 Challenges</font>"
      ]
    },
    {
      "cell_type": "code",
      "metadata": {
        "id": "d1AxSTu883KJ",
        "colab_type": "code",
        "outputId": "8f12855d-be0c-4ef2-98b7-6462c89a0d6e",
        "colab": {
          "base_uri": "https://localhost:8080/",
          "height": 35
        }
      },
      "source": [
        "# Challenge 1 \n",
        "# Remove the first item from the kenya_football_players list \n",
        "# and print the list\n",
        "#\n",
        "del kenyan_football_players[0]\n",
        "print(kenyan_football_players)"
      ],
      "execution_count": 0,
      "outputs": [
        {
          "output_type": "stream",
          "text": [
            "['Musa Mohammed', 'Musa Mohammed', 'Francis Kahata']\n"
          ],
          "name": "stdout"
        }
      ]
    },
    {
      "cell_type": "code",
      "metadata": {
        "id": "s7iTn8tf83kI",
        "colab_type": "code",
        "outputId": "bee412a9-09b0-4d88-8229-4350d4dac820",
        "colab": {
          "base_uri": "https://localhost:8080/",
          "height": 35
        }
      },
      "source": [
        "# Challenge 2\n",
        "# Remove the second item from the fruits list and print the list\n",
        "#\n",
        "del fruits[1]\n",
        "print(fruits)"
      ],
      "execution_count": 0,
      "outputs": [
        {
          "output_type": "stream",
          "text": [
            "['grapes']\n"
          ],
          "name": "stdout"
        }
      ]
    },
    {
      "cell_type": "code",
      "metadata": {
        "id": "EpEg6eWS83c4",
        "colab_type": "code",
        "outputId": "0b85021a-7cc5-4ad9-ae89-abe5c486fd2a",
        "colab": {
          "base_uri": "https://localhost:8080/",
          "height": 55
        }
      },
      "source": [
        "# Challenge 3 \n",
        "# Remove the last item from the african presidents list and print the list\n",
        "#\n",
        "del African_presidents[6]\n",
        "print(African_presidents)"
      ],
      "execution_count": 0,
      "outputs": [
        {
          "output_type": "stream",
          "text": [
            "['Cyril Ramaphosa', 'John Magufuli', 'Pierre Nkurunziza', 'Paul Biya', 'Omar Al-Bashir', 'Faure Gnassingbe']\n"
          ],
          "name": "stdout"
        }
      ]
    },
    {
      "cell_type": "markdown",
      "metadata": {
        "id": "QIPUN0KJ5mdp",
        "colab_type": "text"
      },
      "source": [
        "## 1.6 Slicing a List"
      ]
    },
    {
      "cell_type": "code",
      "metadata": {
        "id": "mX4ZZyjM89tX",
        "colab_type": "code",
        "outputId": "bf86e73e-fb90-47c7-da99-b0da788c316c",
        "colab": {
          "base_uri": "https://localhost:8080/",
          "height": 35
        }
      },
      "source": [
        "# Example 1\n",
        "# We can print the first two item of the fruits list by slicing and printing them as shown;\n",
        "#\n",
        "fruits = fruits[0:1] \n",
        "print(fruits)"
      ],
      "execution_count": 0,
      "outputs": [
        {
          "output_type": "stream",
          "text": [
            "['grapes']\n"
          ],
          "name": "stdout"
        }
      ]
    },
    {
      "cell_type": "code",
      "metadata": {
        "id": "HjMaEseYKTG_",
        "colab_type": "code",
        "outputId": "2741b1bc-4448-4174-867e-2b5459deb931",
        "colab": {
          "base_uri": "https://localhost:8080/",
          "height": 35
        }
      },
      "source": [
        "# Example 2\n",
        "# We can print the items from the 2nd item till the end by slicing and printing them as shown;\n",
        "# \n",
        "fruits = fruits[2:]\n",
        "print(fruits)"
      ],
      "execution_count": 0,
      "outputs": [
        {
          "output_type": "stream",
          "text": [
            "[]\n"
          ],
          "name": "stdout"
        }
      ]
    },
    {
      "cell_type": "code",
      "metadata": {
        "id": "Vx32wP6_KS8E",
        "colab_type": "code",
        "outputId": "32025539-2037-4093-8e9b-bd820e9395e0",
        "colab": {
          "base_uri": "https://localhost:8080/",
          "height": 35
        }
      },
      "source": [
        "# Example 3\n",
        "# We can print items from beginning of the list to the third element in the fruits list as shown;\n",
        "#\n",
        "fruits = fruits[:-3]\n",
        "print(fruits)"
      ],
      "execution_count": 0,
      "outputs": [
        {
          "output_type": "stream",
          "text": [
            "[]\n"
          ],
          "name": "stdout"
        }
      ]
    },
    {
      "cell_type": "markdown",
      "metadata": {
        "id": "5WwBTWk58-Nj",
        "colab_type": "text"
      },
      "source": [
        "### <font color=\"green\">1.6 Challenges</font>"
      ]
    },
    {
      "cell_type": "code",
      "metadata": {
        "id": "aBfzUTyF9BSb",
        "colab_type": "code",
        "outputId": "b505072b-7ded-494c-b039-fca194e6792a",
        "colab": {
          "base_uri": "https://localhost:8080/",
          "height": 35
        }
      },
      "source": [
        "# Challenge 1 \n",
        "# Print the first two items of the kenyan_football_players list\n",
        "#\n",
        "kenyan_football_players=kenyan_football_players[0:1]\n",
        "print(kenyan_football_players)\n"
      ],
      "execution_count": 0,
      "outputs": [
        {
          "output_type": "stream",
          "text": [
            "[]\n"
          ],
          "name": "stdout"
        }
      ]
    },
    {
      "cell_type": "code",
      "metadata": {
        "id": "Lrq8KFE49Bq5",
        "colab_type": "code",
        "outputId": "4e5029d6-4368-4796-c2e1-fefe1ea3c2d2",
        "colab": {
          "base_uri": "https://localhost:8080/",
          "height": 35
        }
      },
      "source": [
        "# Challenge 2 \n",
        "# Print the last two items of the counties list\n",
        "# \n",
        "Counties=Counties[-2:]\n",
        "print(Counties)"
      ],
      "execution_count": 0,
      "outputs": [
        {
          "output_type": "stream",
          "text": [
            "['Turkana', 'Kiambu']\n"
          ],
          "name": "stdout"
        }
      ]
    },
    {
      "cell_type": "code",
      "metadata": {
        "id": "Smtu0V519Bke",
        "colab_type": "code",
        "outputId": "01926fb4-ae1e-4646-84bf-3d7832095a64",
        "colab": {
          "base_uri": "https://localhost:8080/",
          "height": 35
        }
      },
      "source": [
        "# Challenge 3 \n",
        "# Print items fron the beginning to the second items in the kenyan_cities list\n",
        "# \n",
        "kenyan_cities=kenyan_cities[0:-2]\n",
        "print(kenyan_cities)"
      ],
      "execution_count": 0,
      "outputs": [
        {
          "output_type": "stream",
          "text": [
            "[]\n"
          ],
          "name": "stdout"
        }
      ]
    }
  ]
}